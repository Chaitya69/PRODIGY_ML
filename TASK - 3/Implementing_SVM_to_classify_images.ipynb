{
 "cells": [
  {
   "cell_type": "code",
   "execution_count": 5,
   "id": "4c643ab9",
   "metadata": {},
   "outputs": [
    {
     "data": {
      "text/plain": [
       "'c:\\\\Users\\\\userp\\\\Downloads\\\\TASK - 3'"
      ]
     },
     "execution_count": 5,
     "metadata": {},
     "output_type": "execute_result"
    }
   ],
   "source": [
    "import os\n",
    "os.getcwd()\n"
   ]
  },
  {
   "cell_type": "code",
   "execution_count": 6,
   "id": "70666330",
   "metadata": {},
   "outputs": [
    {
     "name": "stdout",
     "output_type": "stream",
     "text": [
      "SVM Accuracy on sample data: 100.00%\n"
     ]
    }
   ],
   "source": [
    "import os\n",
    "import numpy as np\n",
    "import cv2\n",
    "from sklearn.model_selection import train_test_split\n",
    "from sklearn.svm import SVC\n",
    "from sklearn.metrics import accuracy_score\n",
    "\n",
    "# Paths to sample folders\n",
    "DATASET_DIR_CAT = r\"C:\\Users\\userp\\sample_data\\cats\"\n",
    "DATASET_DIR_DOG = r\"C:\\Users\\userp\\sample_data\\dogs\"\n",
    "\n",
    "\n",
    "# Load images safely\n",
    "def load_images_from_folder(folder, label_value, limit=1000):\n",
    "    images, labels = [], []\n",
    "    count = 0\n",
    "    for filename in os.listdir(folder):\n",
    "        if count >= limit:\n",
    "            break\n",
    "        img_path = os.path.join(folder, filename)\n",
    "        try:\n",
    "            img = cv2.imread(img_path)\n",
    "            if img is not None:\n",
    "                img = cv2.resize(img, (64, 64)).flatten()\n",
    "                images.append(img)\n",
    "                labels.append(label_value)\n",
    "                count += 1\n",
    "        except:\n",
    "            continue\n",
    "    return images, labels\n",
    "\n",
    "# Load data\n",
    "cat_data, cat_labels = load_images_from_folder(DATASET_DIR_CAT, 0)\n",
    "dog_data, dog_labels = load_images_from_folder(DATASET_DIR_DOG, 1)\n",
    "\n",
    "# Combine & split\n",
    "X = np.array(cat_data + dog_data)\n",
    "y = np.array(cat_labels + dog_labels)\n",
    "X_train, X_test, y_train, y_test = train_test_split(X, y, test_size=0.2, random_state=42)\n",
    "\n",
    "# Train SVM\n",
    "svm = SVC(kernel='linear')\n",
    "svm.fit(X_train, y_train)\n",
    "\n",
    "# Predict and evaluate\n",
    "y_pred = svm.predict(X_test)\n",
    "accuracy = accuracy_score(y_test, y_pred)\n",
    "print(f\"SVM Accuracy on sample data: {accuracy * 100:.2f}%\")\n"
   ]
  }
 ],
 "metadata": {
  "kernelspec": {
   "display_name": "base",
   "language": "python",
   "name": "python3"
  },
  "language_info": {
   "codemirror_mode": {
    "name": "ipython",
    "version": 3
   },
   "file_extension": ".py",
   "mimetype": "text/x-python",
   "name": "python",
   "nbconvert_exporter": "python",
   "pygments_lexer": "ipython3",
   "version": "3.11.5"
  }
 },
 "nbformat": 4,
 "nbformat_minor": 5
}
