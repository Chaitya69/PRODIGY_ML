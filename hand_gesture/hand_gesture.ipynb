{
 "cells": [
  {
   "cell_type": "code",
   "execution_count": null,
   "id": "7830f6e0",
   "metadata": {},
   "outputs": [],
   "source": [
    "pip install mediapipe opencv-python"
   ]
  },
  {
   "cell_type": "code",
   "execution_count": null,
   "id": "0f1198d7",
   "metadata": {},
   "outputs": [],
   "source": [
    "import cv2\n",
    "import mediapipe as mp\n",
    "\n",
    "# MediaPipe Hand Detection Setup\n",
    "mp_hands = mp.solutions.hands\n",
    "hands = mp_hands.Hands(min_detection_confidence=0.7, min_tracking_confidence=0.5)\n",
    "mp_draw = mp.solutions.drawing_utils\n",
    "\n",
    "def classify_gesture(landmarks):\n",
    "    thumb_tip = landmarks[4]\n",
    "    index_tip = landmarks[8]\n",
    "    middle_tip = landmarks[12]\n",
    "    ring_tip = landmarks[16]\n",
    "    pinky_tip = landmarks[20]\n",
    "    wrist = landmarks[0]\n",
    "\n",
    "    # Distance between thumb and index\n",
    "    thumb_index_dist = abs(thumb_tip.x - index_tip.x)\n",
    "\n",
    "    if all(tip.y < wrist.y for tip in [index_tip, middle_tip, ring_tip, pinky_tip]) and thumb_tip.x < wrist.x:\n",
    "        return \"Open Palm\"\n",
    "    elif thumb_index_dist < 0.05 and middle_tip.y > wrist.y:\n",
    "        return \"OK Sign\"\n",
    "    elif all(lm.y < wrist.y for lm in [index_tip, middle_tip]):\n",
    "        return \"Victory\"\n",
    "    elif all(lm.y > wrist.y for lm in [index_tip, middle_tip]):\n",
    "        return \"Fist\"\n",
    "    else:\n",
    "        return \"Unknown\"\n",
    "\n",
    "\n",
    "# Open Webcam\n",
    "cap = cv2.VideoCapture(0)\n",
    "\n",
    "while True:\n",
    "    ret, frame = cap.read()\n",
    "    if not ret:\n",
    "        break\n",
    "\n",
    "    frame = cv2.flip(frame, 1)\n",
    "    rgb = cv2.cvtColor(frame, cv2.COLOR_BGR2RGB)\n",
    "\n",
    "    results = hands.process(rgb)\n",
    "    gesture = \"No Hand\"\n",
    "\n",
    "    if results.multi_hand_landmarks:\n",
    "        for hand_landmarks in results.multi_hand_landmarks:\n",
    "            mp_draw.draw_landmarks(frame, hand_landmarks, mp_hands.HAND_CONNECTIONS)\n",
    "            gesture = classify_gesture(hand_landmarks.landmark)\n",
    "\n",
    "    # Show gesture on screen\n",
    "    cv2.putText(frame, f\"Gesture: {gesture}\", (10, 50), cv2.FONT_HERSHEY_SIMPLEX, 1.3, (0, 255, 0), 3)\n",
    "    cv2.imshow(\"Hand Gesture Recognition\", frame)\n",
    "\n",
    "    # Quit on pressing 'q'\n",
    "    if cv2.waitKey(1) & 0xFF == ord('q'):\n",
    "        break\n",
    "\n",
    "cap.release()\n",
    "cv2.destroyAllWindows()\n"
   ]
  }
 ],
 "metadata": {
  "kernelspec": {
   "display_name": "base",
   "language": "python",
   "name": "python3"
  },
  "language_info": {
   "codemirror_mode": {
    "name": "ipython",
    "version": 3
   },
   "file_extension": ".py",
   "mimetype": "text/x-python",
   "name": "python",
   "nbconvert_exporter": "python",
   "pygments_lexer": "ipython3",
   "version": "3.11.5"
  }
 },
 "nbformat": 4,
 "nbformat_minor": 5
}
