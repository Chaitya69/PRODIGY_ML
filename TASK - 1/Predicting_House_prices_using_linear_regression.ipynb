{
 "cells": [
  {
   "cell_type": "code",
   "execution_count": 1,
   "id": "48feaa04",
   "metadata": {},
   "outputs": [
    {
     "name": "stdout",
     "output_type": "stream",
     "text": [
      "Mean Squared Error: 5624999999.999721\n",
      "R² Score: nan\n",
      "Predicted price for the new house: 1999999.9999999986\n"
     ]
    },
    {
     "name": "stderr",
     "output_type": "stream",
     "text": [
      "c:\\Users\\userp\\anaconda3\\Lib\\site-packages\\sklearn\\metrics\\_regression.py:996: UndefinedMetricWarning: R^2 score is not well-defined with less than two samples.\n",
      "  warnings.warn(msg, UndefinedMetricWarning)\n"
     ]
    }
   ],
   "source": [
    "# Step 1: Import Libraries\n",
    "import pandas as pd\n",
    "import numpy as np\n",
    "from sklearn.linear_model import LinearRegression\n",
    "from sklearn.model_selection import train_test_split\n",
    "from sklearn.metrics import mean_squared_error, r2_score\n",
    "\n",
    "# Step 2: Sample Dataset (You can replace this with your own CSV or Excel file)\n",
    "data = {\n",
    "    'square_feet': [1500, 1800, 2400, 3000, 3500],\n",
    "    'bedrooms': [3, 4, 3, 5, 4],\n",
    "    'bathrooms': [2, 2, 3, 3, 4],\n",
    "    'price': [400000, 500000, 600000, 650000, 700000]\n",
    "}\n",
    "\n",
    "df = pd.DataFrame(data)\n",
    "\n",
    "# Step 3: Define Features (X) and Target (y)\n",
    "X = df[['square_feet', 'bedrooms', 'bathrooms']]\n",
    "y = df['price']\n",
    "\n",
    "# Step 4: Split Data into Train and Test Sets\n",
    "X_train, X_test, y_train, y_test = train_test_split(X, y, test_size=0.2, random_state=42)\n",
    "\n",
    "# Step 5: Train Linear Regression Model\n",
    "model = LinearRegression()\n",
    "model.fit(X_train, y_train)\n",
    "\n",
    "# Step 6: Make Predictions\n",
    "y_pred = model.predict(X_test)\n",
    "\n",
    "# Step 7: Evaluate the Model\n",
    "mse = mean_squared_error(y_test, y_pred)\n",
    "r2 = r2_score(y_test, y_pred)\n",
    "\n",
    "print(\"Mean Squared Error:\", mse)\n",
    "print(\"R² Score:\", r2)\n",
    "\n",
    "# Optional: Predict Price for a New House\n",
    "new_house = pd.DataFrame({'square_feet': [2500], 'bedrooms': [2], 'bathrooms': [2]})\n",
    "predicted_price = model.predict(new_house)\n",
    "print(\"Predicted price for the new house:\", predicted_price[0])"
   ]
  }
 ],
 "metadata": {
  "kernelspec": {
   "display_name": "base",
   "language": "python",
   "name": "python3"
  },
  "language_info": {
   "codemirror_mode": {
    "name": "ipython",
    "version": 3
   },
   "file_extension": ".py",
   "mimetype": "text/x-python",
   "name": "python",
   "nbconvert_exporter": "python",
   "pygments_lexer": "ipython3",
   "version": "3.11.5"
  }
 },
 "nbformat": 4,
 "nbformat_minor": 5
}
